{
 "cells": [
  {
   "cell_type": "markdown",
   "id": "0d215306",
   "metadata": {},
   "source": [
    "1. Fetch data from Polygon\n",
    "2. Validate and clean data, including new sentiment columns\n",
    "3. Send data to model\n",
    "4. Store data in GCS\n",
    "5. Create API end point and serve data"
   ]
  },
  {
   "cell_type": "markdown",
   "id": "7090983b",
   "metadata": {},
   "source": [
    "# Scratch"
   ]
  },
  {
   "cell_type": "code",
   "execution_count": null,
   "id": "e81d5bbb",
   "metadata": {},
   "outputs": [],
   "source": [
    "!pip install fsspec"
   ]
  },
  {
   "cell_type": "code",
   "execution_count": null,
   "id": "b1b995e7",
   "metadata": {},
   "outputs": [],
   "source": [
    "!pip install gcsfs"
   ]
  },
  {
   "cell_type": "code",
   "execution_count": null,
   "id": "0a861668",
   "metadata": {},
   "outputs": [],
   "source": [
    "pip install --upgrade google-cloud-storage"
   ]
  },
  {
   "cell_type": "code",
   "execution_count": null,
   "id": "28827a8f",
   "metadata": {},
   "outputs": [],
   "source": []
  },
  {
   "cell_type": "code",
   "execution_count": null,
   "id": "fdc4669f",
   "metadata": {},
   "outputs": [],
   "source": [
    "!pip install gcloud"
   ]
  },
  {
   "cell_type": "code",
   "execution_count": null,
   "id": "b851d624",
   "metadata": {},
   "outputs": [],
   "source": [
    "import gcloud"
   ]
  },
  {
   "cell_type": "code",
   "execution_count": null,
   "id": "c4219480",
   "metadata": {},
   "outputs": [],
   "source": [
    "storage_client = storage.Client()\n",
    "buckets = list(storage_client.list_buckets())\n",
    "print(buckets)"
   ]
  },
  {
   "cell_type": "code",
   "execution_count": null,
   "id": "628c8ae1",
   "metadata": {},
   "outputs": [],
   "source": [
    "!echo \"This is a test of gcloud\" > testing.txt"
   ]
  },
  {
   "cell_type": "code",
   "execution_count": null,
   "id": "a4c4f081",
   "metadata": {},
   "outputs": [],
   "source": [
    ">>> import gcsfs\n",
    ">>> fs = gcsfs.GCSFileSystem(project='my-google-project')\n",
    ">>> fs.ls('my-bucket')\n",
    "['my-file.txt']\n",
    ">>> with fs.open('my-bucket/my-file.txt', 'rb') as f:\n",
    "... print(f.read())\n",
    "b'Hello, world'\n",
    "\n",
    ">>> with fs.open('mybucket/new-file', 'wb') as f:\n",
    "... f.write(2*2**20 * b'a')\n",
    "... f.write(2*2**20 * b'a') # data is flushed and file closed\n",
    ">>> fs.du('mybucket/new-file')\n",
    "{'mybucket/new-file': 4194304}"
   ]
  },
  {
   "cell_type": "code",
   "execution_count": null,
   "id": "32810990",
   "metadata": {},
   "outputs": [],
   "source": [
    "import gcsfs"
   ]
  },
  {
   "cell_type": "code",
   "execution_count": null,
   "id": "5f219105",
   "metadata": {},
   "outputs": [],
   "source": [
    "fs = gcsfs.GCSFileSystem(project='mlops-3')"
   ]
  },
  {
   "cell_type": "code",
   "execution_count": null,
   "id": "d2190587",
   "metadata": {},
   "outputs": [],
   "source": [
    "fs.ls('polygonio-news-sentiment-test')"
   ]
  },
  {
   "cell_type": "code",
   "execution_count": null,
   "id": "19a6f4cb",
   "metadata": {},
   "outputs": [],
   "source": [
    "with fs.open('polygonio-news-sentiment-test/testing.txt', 'wb') as f:\n",
    "    f.write(2*2**20 * b'a')\n",
    "\n",
    "fs.du('polygonio-news-sentiment-test/testing.txt')"
   ]
  },
  {
   "cell_type": "code",
   "execution_count": null,
   "id": "04068e41",
   "metadata": {},
   "outputs": [],
   "source": [
    "%%sh\n",
    "ls"
   ]
  },
  {
   "cell_type": "code",
   "execution_count": null,
   "id": "e65801df",
   "metadata": {},
   "outputs": [],
   "source": [
    "!cat testing.txt"
   ]
  },
  {
   "cell_type": "code",
   "execution_count": null,
   "id": "62927cce",
   "metadata": {},
   "outputs": [],
   "source": [
    "destination_file_name= 'testing.txt'\n",
    "source_file_name = 'testing.txt'\n",
    "bucket_name = 'polygonio-news-sentiment-test'"
   ]
  },
  {
   "cell_type": "code",
   "execution_count": null,
   "id": "bead021d",
   "metadata": {},
   "outputs": [],
   "source": [
    "bucket = storage_client.bucket(bucket_name)"
   ]
  },
  {
   "cell_type": "code",
   "execution_count": null,
   "id": "321aec4f",
   "metadata": {},
   "outputs": [],
   "source": [
    "from gcloud import storage\n",
    "# create storage client\n",
    "\n",
    "storage_client = storage.Client()\n",
    "\n",
    "# give blob credentials\n",
    "destination_blob_name= 'testing.txt'\n",
    "source_file_name = 'testing.txt'\n",
    "bucket_name = 'polygonio-news-sentiment-test'\n",
    "# get bucket object \n",
    "\n",
    "try:\n",
    "    bucket = storage_client.bucket(bucket_name)\n",
    "    blob = bucket.blob(destination_blob_name)\n",
    "    blob.upload_from_filename(source_file_name)\n",
    "    print('file: ',source_file_name,' uploaded to bucket: ',bucket_name,' successfully')\n",
    "except Exception as e:\n",
    "    print(e)"
   ]
  },
  {
   "cell_type": "markdown",
   "id": "dbad7322",
   "metadata": {},
   "source": [
    "# Setup"
   ]
  },
  {
   "cell_type": "code",
   "execution_count": 1,
   "id": "f5c79271",
   "metadata": {},
   "outputs": [],
   "source": [
    "import requests\n",
    "import os\n",
    "import sys\n",
    "import pandas as pd\n",
    "import json\n",
    "import numpy as np\n",
    "\n",
    "from datetime import datetime, timedelta"
   ]
  },
  {
   "cell_type": "markdown",
   "id": "c8956aad",
   "metadata": {},
   "source": [
    "# Fetch data from Polygon API"
   ]
  },
  {
   "cell_type": "code",
   "execution_count": 2,
   "id": "5394f536",
   "metadata": {},
   "outputs": [
    {
     "name": "stdout",
     "output_type": "stream",
     "text": [
      "2022-06-11T00:00:00Z\n"
     ]
    }
   ],
   "source": [
    "# Get previous hour (UTC)\n",
    "published_utc = (datetime.now() - timedelta(hours = 1)).strftime('%Y-%m-%dT%H:00:00Z')\n",
    "print(published_utc)"
   ]
  },
  {
   "cell_type": "code",
   "execution_count": 3,
   "id": "32803344",
   "metadata": {},
   "outputs": [
    {
     "name": "stdout",
     "output_type": "stream",
     "text": [
      "https://api.polygon.io/v2/reference/news?published_utc.gte=2022-06-11T00:00:00Z&limit=1000&apiKey=zUqayLy0QMKE4MfqABhB_jophZQFjrWZ\n"
     ]
    }
   ],
   "source": [
    "api_key = os.getenv(\"POLYGON_API_KEY\")\n",
    "next_url = f\"https://api.polygon.io/v2/reference/news?published_utc.gte={published_utc}&limit=1000&apiKey={api_key}\"\n",
    "print(next_url)"
   ]
  },
  {
   "cell_type": "code",
   "execution_count": 4,
   "id": "64503ead",
   "metadata": {},
   "outputs": [
    {
     "name": "stdout",
     "output_type": "stream",
     "text": [
      "Count: 2\n"
     ]
    }
   ],
   "source": [
    "news = []\n",
    "count = 0\n",
    "resp = requests.get(next_url)\n",
    "\n",
    "#while resp.json()[\"next_url\"]:\n",
    "while True:\n",
    "    resp = requests.get(next_url)\n",
    "    if resp.ok:\n",
    "        news += resp.json()\n",
    "        count += resp.json()[\"count\"]\n",
    "        print(f\"Count: {count}\")\n",
    "        if \"next_url\" in resp.json().keys():\n",
    "            next_url = resp.json()[\"next_url\"] + f\"&apiKey={api_key}\"\n",
    "        else:\n",
    "            break\n",
    "    else:\n",
    "        print(f\"Request failed with {resp.status_code}\")\n",
    "        sys.exit(1)\n",
    "\n"
   ]
  },
  {
   "cell_type": "code",
   "execution_count": 5,
   "id": "359c98b6",
   "metadata": {},
   "outputs": [
    {
     "name": "stdout",
     "output_type": "stream",
     "text": [
      "<class 'dict'>\n"
     ]
    }
   ],
   "source": [
    "print(type(resp.json()))\n",
    "#print(resp.json())\n",
    "df = pd.DataFrame(resp.json()['results'])"
   ]
  },
  {
   "cell_type": "code",
   "execution_count": 6,
   "id": "9d7a99e2",
   "metadata": {},
   "outputs": [
    {
     "data": {
      "text/html": [
       "<div>\n",
       "<style scoped>\n",
       "    .dataframe tbody tr th:only-of-type {\n",
       "        vertical-align: middle;\n",
       "    }\n",
       "\n",
       "    .dataframe tbody tr th {\n",
       "        vertical-align: top;\n",
       "    }\n",
       "\n",
       "    .dataframe thead th {\n",
       "        text-align: right;\n",
       "    }\n",
       "</style>\n",
       "<table border=\"1\" class=\"dataframe\">\n",
       "  <thead>\n",
       "    <tr style=\"text-align: right;\">\n",
       "      <th></th>\n",
       "      <th>id</th>\n",
       "      <th>publisher</th>\n",
       "      <th>title</th>\n",
       "      <th>author</th>\n",
       "      <th>published_utc</th>\n",
       "      <th>article_url</th>\n",
       "      <th>tickers</th>\n",
       "      <th>amp_url</th>\n",
       "      <th>image_url</th>\n",
       "      <th>description</th>\n",
       "      <th>keywords</th>\n",
       "    </tr>\n",
       "  </thead>\n",
       "  <tbody>\n",
       "    <tr>\n",
       "      <th>0</th>\n",
       "      <td>NzrtYhEH5sBfiDPazBCZdzBIV2xgk4_SM3Tm7sKEDE4</td>\n",
       "      <td>{'name': 'MarketWatch', 'homepage_url': 'https...</td>\n",
       "      <td>The wild, hair-raising ride of a rookie invest...</td>\n",
       "      <td>MarketWatch</td>\n",
       "      <td>2022-06-11T01:03:00Z</td>\n",
       "      <td>https://www.marketwatch.com/story/the-wild-hai...</td>\n",
       "      <td>[VOO, VTI, TWTR, GOOG, META]</td>\n",
       "      <td>https://www.marketwatch.com/amp/story/the-wild...</td>\n",
       "      <td>https://images.mktw.net/im-561238/social</td>\n",
       "      <td>‘My $25,000 ballooned to $63,000 super-fast. I...</td>\n",
       "      <td>NaN</td>\n",
       "    </tr>\n",
       "    <tr>\n",
       "      <th>1</th>\n",
       "      <td>jKWGPXAvP7Klrj4iWYt16RUApPMywM2TMh00cY-4UJ4</td>\n",
       "      <td>{'name': 'The Motley Fool', 'homepage_url': 'h...</td>\n",
       "      <td>Tesla Files for a 3-for-1 Stock Split. Will It...</td>\n",
       "      <td>newsfeedback@fool.com (James Brumley)</td>\n",
       "      <td>2022-06-11T00:17:52Z</td>\n",
       "      <td>https://www.fool.com/investing/2022/06/10/tesl...</td>\n",
       "      <td>[TSLA, GOOGL, AMZN, ORCL, GOOG, SHOP]</td>\n",
       "      <td>NaN</td>\n",
       "      <td>https://g.foolcdn.com/editorial/images/684627/...</td>\n",
       "      <td>CEO Elon Musk may be looking to light a bullis...</td>\n",
       "      <td>[investing]</td>\n",
       "    </tr>\n",
       "  </tbody>\n",
       "</table>\n",
       "</div>"
      ],
      "text/plain": [
       "                                            id  \\\n",
       "0  NzrtYhEH5sBfiDPazBCZdzBIV2xgk4_SM3Tm7sKEDE4   \n",
       "1  jKWGPXAvP7Klrj4iWYt16RUApPMywM2TMh00cY-4UJ4   \n",
       "\n",
       "                                           publisher  \\\n",
       "0  {'name': 'MarketWatch', 'homepage_url': 'https...   \n",
       "1  {'name': 'The Motley Fool', 'homepage_url': 'h...   \n",
       "\n",
       "                                               title  \\\n",
       "0  The wild, hair-raising ride of a rookie invest...   \n",
       "1  Tesla Files for a 3-for-1 Stock Split. Will It...   \n",
       "\n",
       "                                  author         published_utc  \\\n",
       "0                            MarketWatch  2022-06-11T01:03:00Z   \n",
       "1  newsfeedback@fool.com (James Brumley)  2022-06-11T00:17:52Z   \n",
       "\n",
       "                                         article_url  \\\n",
       "0  https://www.marketwatch.com/story/the-wild-hai...   \n",
       "1  https://www.fool.com/investing/2022/06/10/tesl...   \n",
       "\n",
       "                                 tickers  \\\n",
       "0           [VOO, VTI, TWTR, GOOG, META]   \n",
       "1  [TSLA, GOOGL, AMZN, ORCL, GOOG, SHOP]   \n",
       "\n",
       "                                             amp_url  \\\n",
       "0  https://www.marketwatch.com/amp/story/the-wild...   \n",
       "1                                                NaN   \n",
       "\n",
       "                                           image_url  \\\n",
       "0           https://images.mktw.net/im-561238/social   \n",
       "1  https://g.foolcdn.com/editorial/images/684627/...   \n",
       "\n",
       "                                         description     keywords  \n",
       "0  ‘My $25,000 ballooned to $63,000 super-fast. I...          NaN  \n",
       "1  CEO Elon Musk may be looking to light a bullis...  [investing]  "
      ]
     },
     "execution_count": 6,
     "metadata": {},
     "output_type": "execute_result"
    }
   ],
   "source": [
    "df.head()"
   ]
  },
  {
   "cell_type": "code",
   "execution_count": 7,
   "id": "5ee69e33",
   "metadata": {},
   "outputs": [],
   "source": [
    "df['sentiment'] = np.nan\n",
    "df.fillna('', inplace=True)"
   ]
  },
  {
   "cell_type": "code",
   "execution_count": 17,
   "id": "38541af7",
   "metadata": {},
   "outputs": [
    {
     "data": {
      "text/html": [
       "<div>\n",
       "<style scoped>\n",
       "    .dataframe tbody tr th:only-of-type {\n",
       "        vertical-align: middle;\n",
       "    }\n",
       "\n",
       "    .dataframe tbody tr th {\n",
       "        vertical-align: top;\n",
       "    }\n",
       "\n",
       "    .dataframe thead th {\n",
       "        text-align: right;\n",
       "    }\n",
       "</style>\n",
       "<table border=\"1\" class=\"dataframe\">\n",
       "  <thead>\n",
       "    <tr style=\"text-align: right;\">\n",
       "      <th></th>\n",
       "      <th>id</th>\n",
       "      <th>publisher</th>\n",
       "      <th>title</th>\n",
       "      <th>author</th>\n",
       "      <th>published_utc</th>\n",
       "      <th>article_url</th>\n",
       "      <th>tickers</th>\n",
       "      <th>amp_url</th>\n",
       "      <th>image_url</th>\n",
       "      <th>description</th>\n",
       "      <th>keywords</th>\n",
       "      <th>sentiment</th>\n",
       "    </tr>\n",
       "  </thead>\n",
       "  <tbody>\n",
       "    <tr>\n",
       "      <th>0</th>\n",
       "      <td>NzrtYhEH5sBfiDPazBCZdzBIV2xgk4_SM3Tm7sKEDE4</td>\n",
       "      <td>{'name': 'MarketWatch', 'homepage_url': 'https...</td>\n",
       "      <td>The wild, hair-raising ride of a rookie invest...</td>\n",
       "      <td>MarketWatch</td>\n",
       "      <td>2022-06-10T22:33:00Z</td>\n",
       "      <td>https://www.marketwatch.com/story/the-wild-hai...</td>\n",
       "      <td>[VOO, VTI, TWTR, GOOG, META]</td>\n",
       "      <td>https://www.marketwatch.com/amp/story/the-wild...</td>\n",
       "      <td>https://images.mktw.net/im-561238/social</td>\n",
       "      <td>‘My $25,000 ballooned to $63,000 super-fast. I...</td>\n",
       "      <td></td>\n",
       "      <td></td>\n",
       "    </tr>\n",
       "    <tr>\n",
       "      <th>1</th>\n",
       "      <td>yQGhHCPgQ3rZqnVK6G4qSeGu2RTEp-vi9sDhj4hhF0Q</td>\n",
       "      <td>{'name': 'MarketWatch', 'homepage_url': 'https...</td>\n",
       "      <td>Blue Nile plans to go public through merger wi...</td>\n",
       "      <td>MarketWatch</td>\n",
       "      <td>2022-06-10T22:30:00Z</td>\n",
       "      <td>https://www.marketwatch.com/story/blue-nile-pl...</td>\n",
       "      <td>[MUDS]</td>\n",
       "      <td>https://www.marketwatch.com/amp/story/blue-nil...</td>\n",
       "      <td>https://images.mktw.net/im-562120/social</td>\n",
       "      <td>Blue Nile Inc. plans to become a publicly trad...</td>\n",
       "      <td></td>\n",
       "      <td></td>\n",
       "    </tr>\n",
       "    <tr>\n",
       "      <th>2</th>\n",
       "      <td>fDT4jYXxEqWNbo3f5SlrvoKVy3aUPDzMI_uGmySvync</td>\n",
       "      <td>{'name': 'Benzinga', 'homepage_url': 'https://...</td>\n",
       "      <td>Web3 Just Got Here — And Now Ex-Twitter Boss J...</td>\n",
       "      <td>AJ Fabino</td>\n",
       "      <td>2022-06-10T22:11:36Z</td>\n",
       "      <td>https://www.benzinga.com/markets/cryptocurrenc...</td>\n",
       "      <td>[TWTR, SQ]</td>\n",
       "      <td>https://www.benzinga.com/amp/content/27657693</td>\n",
       "      <td>https://cdn.benzinga.com/files/images/story/20...</td>\n",
       "      <td>Jack Dorsey, co-founder of Twitter Inc (NYSE: ...</td>\n",
       "      <td>[News, Cryptocurrency, Top Stories, Markets, T...</td>\n",
       "      <td></td>\n",
       "    </tr>\n",
       "    <tr>\n",
       "      <th>3</th>\n",
       "      <td>LhaSJotGj7zJvx-F1f6RvF2qwWH2HNxgOIzReA6OAT8</td>\n",
       "      <td>{'name': 'The Motley Fool', 'homepage_url': 'h...</td>\n",
       "      <td>Why MGM Stock Got Rocked Today</td>\n",
       "      <td>newsfeedback@fool.com (Eric Volkman)</td>\n",
       "      <td>2022-06-10T22:10:01Z</td>\n",
       "      <td>https://www.fool.com/investing/2022/06/10/why-...</td>\n",
       "      <td>[MGM]</td>\n",
       "      <td></td>\n",
       "      <td>https://g.foolcdn.com/editorial/images/684598/...</td>\n",
       "      <td>Investors reacted sharply to news of the compa...</td>\n",
       "      <td>[investing]</td>\n",
       "      <td></td>\n",
       "    </tr>\n",
       "    <tr>\n",
       "      <th>4</th>\n",
       "      <td>xX64VaogRU7SOvDXrGInsbpDWkiclc9yjA9D6RD4CoI</td>\n",
       "      <td>{'name': 'MarketWatch', 'homepage_url': 'https...</td>\n",
       "      <td>After petition for leadership changes, Coinbas...</td>\n",
       "      <td>MarketWatch</td>\n",
       "      <td>2022-06-10T22:09:00Z</td>\n",
       "      <td>https://www.marketwatch.com/story/after-petiti...</td>\n",
       "      <td>[COIN, TWTR]</td>\n",
       "      <td>https://www.marketwatch.com/amp/story/after-pe...</td>\n",
       "      <td>https://images.mktw.net/im-542990/social</td>\n",
       "      <td>Coinbase Global Inc. has had a rough stretch l...</td>\n",
       "      <td></td>\n",
       "      <td></td>\n",
       "    </tr>\n",
       "  </tbody>\n",
       "</table>\n",
       "</div>"
      ],
      "text/plain": [
       "                                            id  \\\n",
       "0  NzrtYhEH5sBfiDPazBCZdzBIV2xgk4_SM3Tm7sKEDE4   \n",
       "1  yQGhHCPgQ3rZqnVK6G4qSeGu2RTEp-vi9sDhj4hhF0Q   \n",
       "2  fDT4jYXxEqWNbo3f5SlrvoKVy3aUPDzMI_uGmySvync   \n",
       "3  LhaSJotGj7zJvx-F1f6RvF2qwWH2HNxgOIzReA6OAT8   \n",
       "4  xX64VaogRU7SOvDXrGInsbpDWkiclc9yjA9D6RD4CoI   \n",
       "\n",
       "                                           publisher  \\\n",
       "0  {'name': 'MarketWatch', 'homepage_url': 'https...   \n",
       "1  {'name': 'MarketWatch', 'homepage_url': 'https...   \n",
       "2  {'name': 'Benzinga', 'homepage_url': 'https://...   \n",
       "3  {'name': 'The Motley Fool', 'homepage_url': 'h...   \n",
       "4  {'name': 'MarketWatch', 'homepage_url': 'https...   \n",
       "\n",
       "                                               title  \\\n",
       "0  The wild, hair-raising ride of a rookie invest...   \n",
       "1  Blue Nile plans to go public through merger wi...   \n",
       "2  Web3 Just Got Here — And Now Ex-Twitter Boss J...   \n",
       "3                     Why MGM Stock Got Rocked Today   \n",
       "4  After petition for leadership changes, Coinbas...   \n",
       "\n",
       "                                 author         published_utc  \\\n",
       "0                           MarketWatch  2022-06-10T22:33:00Z   \n",
       "1                           MarketWatch  2022-06-10T22:30:00Z   \n",
       "2                             AJ Fabino  2022-06-10T22:11:36Z   \n",
       "3  newsfeedback@fool.com (Eric Volkman)  2022-06-10T22:10:01Z   \n",
       "4                           MarketWatch  2022-06-10T22:09:00Z   \n",
       "\n",
       "                                         article_url  \\\n",
       "0  https://www.marketwatch.com/story/the-wild-hai...   \n",
       "1  https://www.marketwatch.com/story/blue-nile-pl...   \n",
       "2  https://www.benzinga.com/markets/cryptocurrenc...   \n",
       "3  https://www.fool.com/investing/2022/06/10/why-...   \n",
       "4  https://www.marketwatch.com/story/after-petiti...   \n",
       "\n",
       "                        tickers  \\\n",
       "0  [VOO, VTI, TWTR, GOOG, META]   \n",
       "1                        [MUDS]   \n",
       "2                    [TWTR, SQ]   \n",
       "3                         [MGM]   \n",
       "4                  [COIN, TWTR]   \n",
       "\n",
       "                                             amp_url  \\\n",
       "0  https://www.marketwatch.com/amp/story/the-wild...   \n",
       "1  https://www.marketwatch.com/amp/story/blue-nil...   \n",
       "2      https://www.benzinga.com/amp/content/27657693   \n",
       "3                                                      \n",
       "4  https://www.marketwatch.com/amp/story/after-pe...   \n",
       "\n",
       "                                           image_url  \\\n",
       "0           https://images.mktw.net/im-561238/social   \n",
       "1           https://images.mktw.net/im-562120/social   \n",
       "2  https://cdn.benzinga.com/files/images/story/20...   \n",
       "3  https://g.foolcdn.com/editorial/images/684598/...   \n",
       "4           https://images.mktw.net/im-542990/social   \n",
       "\n",
       "                                         description  \\\n",
       "0  ‘My $25,000 ballooned to $63,000 super-fast. I...   \n",
       "1  Blue Nile Inc. plans to become a publicly trad...   \n",
       "2  Jack Dorsey, co-founder of Twitter Inc (NYSE: ...   \n",
       "3  Investors reacted sharply to news of the compa...   \n",
       "4  Coinbase Global Inc. has had a rough stretch l...   \n",
       "\n",
       "                                            keywords sentiment  \n",
       "0                                                               \n",
       "1                                                               \n",
       "2  [News, Cryptocurrency, Top Stories, Markets, T...            \n",
       "3                                        [investing]            \n",
       "4                                                               "
      ]
     },
     "execution_count": 17,
     "metadata": {},
     "output_type": "execute_result"
    }
   ],
   "source": [
    "df.head()"
   ]
  },
  {
   "cell_type": "code",
   "execution_count": null,
   "id": "ebd6cabf",
   "metadata": {},
   "outputs": [],
   "source": []
  },
  {
   "cell_type": "code",
   "execution_count": 8,
   "id": "e5abcc7d",
   "metadata": {},
   "outputs": [],
   "source": [
    "df.to_csv('gs://polygonio-news-sentiment-test/test3.csv')"
   ]
  },
  {
   "cell_type": "code",
   "execution_count": 9,
   "id": "702adc2b",
   "metadata": {},
   "outputs": [
    {
     "name": "stdout",
     "output_type": "stream",
     "text": [
      "{'MarketWatch', 'The Motley Fool', 'Benzinga', 'GlobeNewswire Inc.', 'Invezz'}\n"
     ]
    }
   ],
   "source": [
    "publisher = set()\n",
    "for pub in df['publisher']:\n",
    "    publisher.add(pub['name'])\n",
    "\n",
    "print(publisher)"
   ]
  },
  {
   "cell_type": "markdown",
   "id": "80f70aa4",
   "metadata": {},
   "source": [
    "# Validate data"
   ]
  },
  {
   "cell_type": "code",
   "execution_count": null,
   "id": "bc3e25c3",
   "metadata": {},
   "outputs": [],
   "source": []
  },
  {
   "cell_type": "markdown",
   "id": "d7d170d0",
   "metadata": {},
   "source": [
    "# ML Model"
   ]
  },
  {
   "cell_type": "code",
   "execution_count": 8,
   "id": "82343517",
   "metadata": {},
   "outputs": [
    {
     "name": "stderr",
     "output_type": "stream",
     "text": [
      "/home/ubuntu/miniconda3/envs/poly/lib/python3.9/site-packages/tqdm/auto.py:22: TqdmWarning: IProgress not found. Please update jupyter and ipywidgets. See https://ipywidgets.readthedocs.io/en/stable/user_install.html\n",
      "  from .autonotebook import tqdm as notebook_tqdm\n"
     ]
    }
   ],
   "source": [
    "from transformers import BertTokenizer, BertForSequenceClassification, pipeline"
   ]
  },
  {
   "cell_type": "code",
   "execution_count": 9,
   "id": "64217356",
   "metadata": {},
   "outputs": [
    {
     "data": {
      "text/plain": [
       "'4.19.4'"
      ]
     },
     "execution_count": 9,
     "metadata": {},
     "output_type": "execute_result"
    }
   ],
   "source": [
    "import transformers\n",
    "transformers.__version__"
   ]
  },
  {
   "cell_type": "code",
   "execution_count": 10,
   "id": "e6666d8c",
   "metadata": {},
   "outputs": [
    {
     "name": "stderr",
     "output_type": "stream",
     "text": [
      "Downloading: 100%|█████████████████████████████████████████████████████████████████████████████████████████████████████████████████████| 533/533 [00:00<00:00, 305kB/s]\n",
      "Downloading: 100%|██████████████████████████████████████████████████████████████████████████████████████████████████████████████████| 419M/419M [00:06<00:00, 71.6MB/s]\n",
      "Downloading: 100%|██████████████████████████████████████████████████████████████████████████████████████████████████████████████████| 221k/221k [00:00<00:00, 1.88MB/s]\n"
     ]
    }
   ],
   "source": [
    "finbert = BertForSequenceClassification.from_pretrained('yiyanghkust/finbert-tone',num_labels=3)\n",
    "tokenizer = BertTokenizer.from_pretrained('yiyanghkust/finbert-tone')"
   ]
  },
  {
   "cell_type": "code",
   "execution_count": 11,
   "id": "d1e6e109",
   "metadata": {},
   "outputs": [],
   "source": [
    "nlp = pipeline(\"text-classification\", model=finbert, tokenizer=tokenizer)\n",
    "results = nlp(['growth is strong and we have plenty of liquidity.', \n",
    "               'there is a shortage of capital, and we need extra financing.',\n",
    "              'formulation patents might protect Vasotec to a limited extent.'])"
   ]
  },
  {
   "cell_type": "code",
   "execution_count": 12,
   "id": "50a1d94f",
   "metadata": {},
   "outputs": [
    {
     "data": {
      "text/plain": [
       "[{'label': 'Positive', 'score': 1.0},\n",
       " {'label': 'Negative', 'score': 0.9952379465103149},\n",
       " {'label': 'Neutral', 'score': 0.9979718327522278}]"
      ]
     },
     "execution_count": 12,
     "metadata": {},
     "output_type": "execute_result"
    }
   ],
   "source": [
    "results"
   ]
  },
  {
   "cell_type": "code",
   "execution_count": 13,
   "id": "fe6e8944",
   "metadata": {},
   "outputs": [],
   "source": [
    "headlines = df['title'].tolist()"
   ]
  },
  {
   "cell_type": "code",
   "execution_count": 14,
   "id": "647d49f0",
   "metadata": {},
   "outputs": [],
   "source": [
    "results = nlp(headlines)"
   ]
  },
  {
   "cell_type": "code",
   "execution_count": 15,
   "id": "bc788443",
   "metadata": {},
   "outputs": [
    {
     "data": {
      "text/plain": [
       "[{'label': 'Neutral', 'score': 0.9563222527503967},\n",
       " {'label': 'Positive', 'score': 0.9543068408966064}]"
      ]
     },
     "execution_count": 15,
     "metadata": {},
     "output_type": "execute_result"
    }
   ],
   "source": [
    "results"
   ]
  },
  {
   "cell_type": "code",
   "execution_count": 16,
   "id": "8a8f93da",
   "metadata": {},
   "outputs": [],
   "source": [
    "from transformers import AutoTokenizer, AutoModelForSequenceClassification"
   ]
  },
  {
   "cell_type": "code",
   "execution_count": 17,
   "id": "2f776be3",
   "metadata": {},
   "outputs": [
    {
     "name": "stderr",
     "output_type": "stream",
     "text": [
      "Downloading: 100%|████████████████████████████████████████████████████████████████████████████████████████████████████████████████████| 252/252 [00:00<00:00, 67.8kB/s]\n",
      "Downloading: 100%|█████████████████████████████████████████████████████████████████████████████████████████████████████████████████████| 758/758 [00:00<00:00, 350kB/s]\n",
      "Downloading: 100%|██████████████████████████████████████████████████████████████████████████████████████████████████████████████████| 226k/226k [00:00<00:00, 1.60MB/s]\n",
      "Downloading: 100%|████████████████████████████████████████████████████████████████████████████████████████████████████████████████████| 112/112 [00:00<00:00, 32.8kB/s]\n",
      "Downloading: 100%|██████████████████████████████████████████████████████████████████████████████████████████████████████████████████| 418M/418M [00:05<00:00, 87.0MB/s]\n"
     ]
    }
   ],
   "source": [
    "tokenizer2 = AutoTokenizer.from_pretrained(\"ProsusAI/finbert\",num_labels=3)\n",
    "model = AutoModelForSequenceClassification.from_pretrained(\"ProsusAI/finbert\")"
   ]
  },
  {
   "cell_type": "code",
   "execution_count": 18,
   "id": "137870df",
   "metadata": {},
   "outputs": [],
   "source": [
    "nlp2 = pipeline(\"text-classification\", model=model, tokenizer=tokenizer)\n",
    "results2 = nlp2(['growth is strong and we have plenty of liquidity.', \n",
    "               'there is a shortage of capital, and we need extra financing.',\n",
    "              'formulation patents might protect Vasotec to a limited extent.'])"
   ]
  },
  {
   "cell_type": "code",
   "execution_count": 19,
   "id": "b4775d02",
   "metadata": {},
   "outputs": [
    {
     "data": {
      "text/plain": [
       "[{'label': 'neutral', 'score': 0.7334730625152588},\n",
       " {'label': 'neutral', 'score': 0.7869897484779358},\n",
       " {'label': 'neutral', 'score': 0.7128838300704956}]"
      ]
     },
     "execution_count": 19,
     "metadata": {},
     "output_type": "execute_result"
    }
   ],
   "source": [
    "results2"
   ]
  },
  {
   "cell_type": "markdown",
   "id": "ec2acceb",
   "metadata": {},
   "source": [
    "# Deploy API"
   ]
  },
  {
   "cell_type": "code",
   "execution_count": null,
   "id": "c4d78455",
   "metadata": {},
   "outputs": [],
   "source": []
  }
 ],
 "metadata": {
  "kernelspec": {
   "display_name": "poly",
   "language": "python",
   "name": "poly"
  },
  "language_info": {
   "codemirror_mode": {
    "name": "ipython",
    "version": 3
   },
   "file_extension": ".py",
   "mimetype": "text/x-python",
   "name": "python",
   "nbconvert_exporter": "python",
   "pygments_lexer": "ipython3",
   "version": "3.9.13"
  },
  "toc": {
   "base_numbering": 1,
   "nav_menu": {},
   "number_sections": true,
   "sideBar": true,
   "skip_h1_title": false,
   "title_cell": "Table of Contents",
   "title_sidebar": "Contents",
   "toc_cell": false,
   "toc_position": {},
   "toc_section_display": true,
   "toc_window_display": false
  }
 },
 "nbformat": 4,
 "nbformat_minor": 5
}
